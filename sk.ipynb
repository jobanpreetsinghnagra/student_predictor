{
 "cells": [
  {
   "cell_type": "markdown",
   "id": "51373a6c",
   "metadata": {},
   "source": [
    "# Linear Regression Model to Predict Student Performance\n",
    "### Technologies Used\n",
    "##### Scikit-Learn\n",
    "\n",
    "### Models used\n",
    "#### Multiple Linear Regression\n",
    "##### - with batch gradient descent and mean square error cost function"
   ]
  },
  {
   "cell_type": "code",
   "execution_count": 1,
   "id": "793b6fb3",
   "metadata": {},
   "outputs": [],
   "source": [
    "#importing libraries used for project\n",
    "import pandas as pd #to load , clean data from a public dataset in CSV file formats\n",
    "import numpy as np \n",
    "import matplotlib.pyplot as plt #for plotting various features\n",
    "\n",
    "from sklearn.linear_model import SGDRegressor #linear regression with gradient descent in sklearn\n",
    "from sklearn.preprocessing import StandardScaler #normalisation in sklear"
   ]
  },
  {
   "cell_type": "code",
   "execution_count": 2,
   "id": "ab2757b6",
   "metadata": {},
   "outputs": [],
   "source": [
    "#load  the training data \n",
    "df = pd.read_csv(r\"C:\\Users\\jaken\\Documents\\student_predictor\\dataset\\Student_Performance.csv\")\n",
    "\n",
    "#extract the input features and output labels\n",
    "inputs = df.drop([\"Extracurricular Activities\",\"Performance Index\"],axis=1)\n",
    "outputs = df.drop(['Hours Studied', 'Previous Scores', 'Extracurricular Activities','Sleep Hours', 'Sample Question Papers Practiced'],axis=1)\n",
    "\n",
    "#change the X and Y to suitable forms\n",
    "# X_train (ndarray(m examples, n features))\n",
    "# y_train (ndarray(m output labels))\n",
    "X_train = inputs.to_numpy()\n",
    "y_train = outputs.to_numpy()\n",
    "\n",
    "y_train = y_train.flatten()"
   ]
  },
  {
   "cell_type": "code",
   "execution_count": 3,
   "id": "4e016ff3",
   "metadata": {},
   "outputs": [],
   "source": [
    "#normalize the training data using sklearn\n",
    "\n",
    "scaler = StandardScaler()\n",
    "X_norm = scaler.fit_transform(X_train,y_train)"
   ]
  },
  {
   "cell_type": "code",
   "execution_count": 7,
   "id": "fdb3883f",
   "metadata": {},
   "outputs": [
    {
     "name": "stdout",
     "output_type": "stream",
     "text": [
      "SGDRegressor()\n",
      "number of iterations completed: 8, number of weight updates: 80001.0\n"
     ]
    }
   ],
   "source": [
    "#create and fit the regression model\n",
    "\n",
    "sgdr = SGDRegressor(max_iter =  1000)\n",
    "sgdr.fit(X_norm,y_train)\n",
    "print(sgdr)\n",
    "print(f\"number of iterations completed: {sgdr.n_iter_}, number of weight updates: {sgdr.t_}\")"
   ]
  },
  {
   "cell_type": "code",
   "execution_count": 8,
   "id": "abbee6b8",
   "metadata": {},
   "outputs": [
    {
     "name": "stdout",
     "output_type": "stream",
     "text": [
      "model parameters:                   w: [ 7.42927717 17.63653589  0.80952315  0.50492008], b:[55.20808268]\n"
     ]
    }
   ],
   "source": [
    "#extract model parameter after gradient decent\n",
    "\n",
    "b_norm  = sgdr.intercept_\n",
    "w_norm = sgdr.coef_\n",
    "print(f\"model parameters:                   w: {w_norm}, b:{b_norm}\")"
   ]
  },
  {
   "cell_type": "code",
   "execution_count": 9,
   "id": "7e893733",
   "metadata": {},
   "outputs": [
    {
     "name": "stdout",
     "output_type": "stream",
     "text": [
      "Prediction on training set:\n",
      "[91.57072762 63.46344032 44.84700643 36.30115452]\n",
      "Target values \n",
      "[91. 65. 45. 36.]\n"
     ]
    }
   ],
   "source": [
    "# make a prediction using sgdr.predict()\n",
    "y_pred_sgd = sgdr.predict(X_norm)\n",
    "\n",
    "print(f\"Prediction on training set:\\n{y_pred_sgd[:4]}\" )\n",
    "print(f\"Target values \\n{y_train[:4]}\")"
   ]
  },
  {
   "cell_type": "code",
   "execution_count": 10,
   "id": "ed797d5a",
   "metadata": {},
   "outputs": [
    {
     "name": "stdout",
     "output_type": "stream",
     "text": [
      "Predicted Marks[80.57793832]\n"
     ]
    }
   ],
   "source": [
    "# Original new input (same feature order as training data)\n",
    "x_new = np.array([6, 90, 9, 5])\n",
    "\n",
    "# Normalize new input using training mean and std\n",
    "x_new_norm = (x_new - x_new.mean()) / x_new.std()  # X_mean and X_std must come from training data\n",
    "\n",
    "# Make prediction using w_norm and b_norm\n",
    "y_new_pred = np.dot(x_new_norm, w_norm) + b_norm\n",
    "\n",
    "print(f\"Predicted Marks{y_new_pred }\")\n"
   ]
  },
  {
   "cell_type": "code",
   "execution_count": null,
   "id": "1706fdde",
   "metadata": {},
   "outputs": [],
   "source": []
  }
 ],
 "metadata": {
  "kernelspec": {
   "display_name": "skl",
   "language": "python",
   "name": "python3"
  },
  "language_info": {
   "codemirror_mode": {
    "name": "ipython",
    "version": 3
   },
   "file_extension": ".py",
   "mimetype": "text/x-python",
   "name": "python",
   "nbconvert_exporter": "python",
   "pygments_lexer": "ipython3",
   "version": "3.13.4"
  }
 },
 "nbformat": 4,
 "nbformat_minor": 5
}
